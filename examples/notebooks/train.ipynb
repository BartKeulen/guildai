{
 "cells": [
  {
   "cell_type": "markdown",
   "metadata": {},
   "source": [
    "# Guild AI Get Started Mock Training Script\n",
    "\n",
    "This is a Notebook implementation of the mock training script used in [Guild AI Quick Start](https://my.guild.ai/start).\n",
    "\n",
    "\n",
    "## Installation\n",
    "\n",
    "Before continuing, install Guild AI:\n",
    "\n",
    "    $ pip install guildai\n",
    "    \n",
    "## Contents\n",
    "    \n",
    "This Notebook is designed to run as an experiment using `guild run train.ipynb`. For an interactive Notebook session using `guild.ipy` see [get-started.ipynb](get-started.ipynb)."
   ]
  },
  {
   "cell_type": "markdown",
   "metadata": {},
   "source": [
    "## Mock training function\n",
    "\n",
    "Create a mock training script. This function doesn’t actually train anything, but simulates the training process of accepting hyperparameters as inputs and generating a loss."
   ]
  },
  {
   "cell_type": "code",
   "execution_count": 2,
   "metadata": {},
   "outputs": [],
   "source": [
    "import numpy as np\n",
    "\n",
    "def train(x=0.1, noise=0.1):\n",
    "    loss = (np.sin(5 * x) * (1 - np.tanh(x ** 2)) + np.random.randn() * noise)\n",
    "    print(\"loss: %f\" % loss)"
   ]
  },
  {
   "cell_type": "markdown",
   "metadata": {},
   "source": [
    "[Function credit: *skopt API documentation*](https://scikit-optimize.github.io/)\n",
    "\n",
    "Based on our mock training function, the \"best\" result (i.e. the run with the lowest *loss*) should be the run where `x` is close to `-0.3`. Because there's a random component (i.e. the `noise` parameter) your results may show best results with different values for `x`.\n",
    "\n",
    "Below is an image that plots *loss* for values of *x*, showing the lowest loss where x is approximately `-0.3`.\n",
    "\n",
    "<img src=\"bayesian-optimization.png\" style=\"margin-left:0\">\n",
    "\n",
    "[Image credit: *Bayesian optimization with skopt*](https://scikit-optimize.github.io/notebooks/bayesian-optimization.html)"
   ]
  },
  {
   "cell_type": "markdown",
   "metadata": {},
   "source": [
    "## Sample use\n",
    "\n",
    "We define sample values f"
   ]
  },
  {
   "cell_type": "code",
   "execution_count": 4,
   "metadata": {},
   "outputs": [
    {
     "name": "stdout",
     "output_type": "stream",
     "text": [
      "loss: -0.881561\n"
     ]
    }
   ],
   "source": [
    "x = -0.3\n",
    "y = 0.1\n",
    "train(x, y)"
   ]
  },
  {
   "cell_type": "markdown",
   "metadata": {},
   "source": [
    "## Next steps\n",
    "\n",
    "This Notebook covers basic functionality provided by the `guild.ipy` module. The module lets you run functions and capture results as unique runs. You can view and compare run results using various module functions.\n",
    "\n",
    "Generated runs can be further managed using the Guild command line interface. For more information, refer to [Guild AI Quick Start](https://guild.ai/docs/start/)."
   ]
  }
 ],
 "metadata": {
  "kernelspec": {
   "display_name": "Python 2",
   "language": "python",
   "name": "python2"
  },
  "language_info": {
   "codemirror_mode": {
    "name": "ipython",
    "version": 2
   },
   "file_extension": ".py",
   "mimetype": "text/x-python",
   "name": "python",
   "nbconvert_exporter": "python",
   "pygments_lexer": "ipython2",
   "version": "2.7.17"
  }
 },
 "nbformat": 4,
 "nbformat_minor": 2
}
